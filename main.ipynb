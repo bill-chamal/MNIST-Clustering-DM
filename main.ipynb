{
 "cells": [
  {
   "cell_type": "markdown",
   "metadata": {},
   "source": [
    "# ΜΗΧΑΝΙΚΗ ΜΑΘΗΣΗ\n",
    "\n",
    "2η ΕΡΓΑΣΙΑ CLUSTERING\n",
    "\n",
    "ΧΑΜΑΛΙΔΗΣ ΒΑΣΙΛΗΣ \n",
    "\n",
    "iis22183\n",
    "\n",
    "ΤΜΗΜΑ ΕΦΑΡΜΟΣΜΕΝΗΣ ΠΛΗΡΟΦΟΡΙΚΗΣ"
   ]
  },
  {
   "cell_type": "code",
   "execution_count": 1,
   "metadata": {},
   "outputs": [
    {
     "name": "stderr",
     "output_type": "stream",
     "text": [
      "2024-11-27 13:02:20.458668: I tensorflow/core/util/port.cc:153] oneDNN custom operations are on. You may see slightly different numerical results due to floating-point round-off errors from different computation orders. To turn them off, set the environment variable `TF_ENABLE_ONEDNN_OPTS=0`.\n",
      "2024-11-27 13:02:20.490336: I tensorflow/core/platform/cpu_feature_guard.cc:210] This TensorFlow binary is optimized to use available CPU instructions in performance-critical operations.\n",
      "To enable the following instructions: SSE3 SSE4.1 SSE4.2 AVX AVX2 AVX512F AVX512_VNNI FMA, in other operations, rebuild TensorFlow with the appropriate compiler flags.\n"
     ]
    },
    {
     "name": "stdout",
     "output_type": "stream",
     "text": [
      "Keras version: 3.4.1\n"
     ]
    }
   ],
   "source": [
    "# Import libraries\n",
    "import numpy as np\n",
    "from sklearn.model_selection import train_test_split\n",
    "from matplotlib import pyplot as plt\n",
    "from sklearn import cluster\n",
    "import seaborn as sns\n",
    "# Pandas Dataframe\n",
    "import pandas as pd\n",
    "# Google TS for ML\n",
    "import tensorflow as tf\n",
    "# Dataset\n",
    "import keras\n",
    "print(\"Keras version: \" + keras.__version__)\n",
    "from keras.datasets import fashion_mnist\n",
    "from tensorflow.keras.datasets import mnist\n",
    "# Import Autoencoder TS keras\n",
    "from tensorflow.keras.models import Model\n",
    "from tensorflow.keras import layers, losses\n",
    "# Import metrics\n",
    "from sklearn.metrics import accuracy_score, precision_score, recall_score"
   ]
  },
  {
   "cell_type": "markdown",
   "metadata": {},
   "source": [
    "# Data Preporcessing"
   ]
  },
  {
   "cell_type": "markdown",
   "metadata": {},
   "source": [
    "### Cross Validation"
   ]
  },
  {
   "cell_type": "code",
   "execution_count": 2,
   "metadata": {},
   "outputs": [],
   "source": [
    "# (1) Import fashion dataser\n",
    "(X_train, y_train), (X_test, y_test) = fashion_mnist.load_data()\n",
    "\n",
    "# (2) Create subset with a validations set\n",
    "X_train, X_validate, y_train, y_validate =\\\n",
    "      train_test_split(X_train, y_train, test_size=0.1, random_state=1)"
   ]
  },
  {
   "cell_type": "code",
   "execution_count": 3,
   "metadata": {},
   "outputs": [
    {
     "name": "stdout",
     "output_type": "stream",
     "text": [
      "Train shape: \t (54000, 28, 28)\n",
      "Valid shape: \t (6000, 28, 28)\n",
      "Test shape: \t (10000, 28, 28)\n"
     ]
    }
   ],
   "source": [
    "# Print the data shape\n",
    "print(\"Train shape: \\t\", X_train.shape)\n",
    "print(\"Valid shape: \\t\" , X_validate.shape)\n",
    "print(\"Test shape: \\t\" , X_test.shape)"
   ]
  },
  {
   "cell_type": "markdown",
   "metadata": {},
   "source": [
    "### Data Normalization"
   ]
  },
  {
   "cell_type": "code",
   "execution_count": 4,
   "metadata": {},
   "outputs": [],
   "source": [
    "# Min Max Scaler function\n",
    "from sklearn.preprocessing import MinMaxScaler\n",
    "\n",
    "scalermm = MinMaxScaler()\n",
    "\n",
    "# Declaring variables types \n",
    "def scaler(data: pd.DataFrame) -> np.ndarray:\n",
    "  data_scaled = data.copy()  # Make a copy of data to keep the structure\n",
    "  data_scaled = scalermm.fit_transform(data_scaled).astype('float32') # Apply scaling \n",
    "  return data_scaled #Return the scaled data"
   ]
  },
  {
   "cell_type": "markdown",
   "metadata": {},
   "source": [
    "### Image Ploting Functions"
   ]
  },
  {
   "cell_type": "code",
   "execution_count": 5,
   "metadata": {},
   "outputs": [],
   "source": [
    "#Plot images:\n",
    "def plot_images(data: pd.DataFrame, num_images: int = 20):\n",
    "    # Calculate the number of rows and columns needed for the subplot grid\n",
    "    rows = int(np.sqrt(num_images))  # Calculate rows as square root of num_images\n",
    "    cols = (num_images + rows - 1) // rows  # Calculate columns (to cover remaining images)\n",
    "\n",
    "    # Create a subplot grid based on the number of images to display\n",
    "    fig, ax = plt.subplots(rows, cols, figsize=(12, 12),\n",
    "                           subplot_kw=dict(xticks=[], yticks=[]))\n",
    "    \n",
    "    # Adjust spacing between subplots\n",
    "    fig.subplots_adjust(hspace=0.05, wspace=0.05)\n",
    "\n",
    "    # Loop over the number of images and display them in the subplot grid\n",
    "    for i, axi in enumerate(ax.flat):\n",
    "        if i < num_images:\n",
    "            # Display each image in the grid\n",
    "            im = axi.imshow(data[i], cmap='binary')\n",
    "            im.set_clim(0, 16)\n",
    "        else:\n",
    "            axi.axis('off')  # Turn off axis for any unused subplots\n",
    "\n",
    "    plt.show()\n"
   ]
  },
  {
   "cell_type": "code",
   "execution_count": 6,
   "metadata": {},
   "outputs": [],
   "source": [
    "def plot_random_images_by_cluster(data: np.ndarray, cluster_labels: np.ndarray, num_images_per_cluster: int = 5, title:str = \"\"):\n",
    "    \"\"\"\n",
    "    Plots a random selection of images for each cluster.\n",
    "\n",
    "    Parameters:\n",
    "    - data (np.ndarray): Image data, where each row corresponds to a flattened image.\n",
    "    - cluster_labels (np.ndarray): Cluster labels corresponding to each image.\n",
    "    - num_images_per_cluster (int): Number of random images to display for each cluster.\n",
    "    \"\"\"\n",
    "    unique_clusters = np.unique(cluster_labels)  # Get unique cluster labels\n",
    "    num_clusters = len(unique_clusters)\n",
    "    \n",
    "    # Create a figure for subplots, with subplots equal to (num_clusters x num_images_per_cluster)\n",
    "    fig, ax = plt.subplots(\n",
    "        num_clusters, num_images_per_cluster,\n",
    "        figsize=(num_images_per_cluster * 2, num_clusters * 2),\n",
    "        subplot_kw=dict(xticks=[], yticks=[])\n",
    "    )\n",
    "    \n",
    "    # Check if ax is 1D or 2D\n",
    "    if num_clusters == 1:\n",
    "        ax = np.expand_dims(ax, axis=0)  # Make it 2D for consistency if only one cluster\n",
    "    \n",
    "    for row, cluster in enumerate(unique_clusters):\n",
    "        # Get all images for this cluster\n",
    "        cluster_data = data[cluster_labels == cluster]\n",
    "        \n",
    "        # Randomly sample images from this cluster\n",
    "        if len(cluster_data) > num_images_per_cluster:\n",
    "            selected_images = cluster_data[np.random.choice(cluster_data.shape[0], num_images_per_cluster, replace=False)]\n",
    "        else:\n",
    "            selected_images = cluster_data  # If fewer images, use all\n",
    "        \n",
    "        for col, image in enumerate(selected_images):\n",
    "            ax[row, col].imshow(image.reshape((28, 28)), cmap='binary')\n",
    "            ax[row, col].set_title(f\"Cluster {cluster}\")\n",
    "            ax[row, col].axis('off')\n",
    "        \n",
    "        # Turn off unused axes in the row if not enough images\n",
    "        for col in range(len(selected_images), num_images_per_cluster):\n",
    "            ax[row, col].axis('off')\n",
    "    \n",
    "    # Adjust layout and spacing\n",
    "    # plt.tight_layout()\n",
    "\n",
    "       # Add a title for the whole figure\n",
    "    if title:\n",
    "        fig.suptitle(title, fontsize=16)\n",
    "    \n",
    "    plt.tight_layout(rect=[0, 0, 1, 0.95])  # Adjust layout to include the title\n",
    "\n",
    "\n",
    "    plt.show()\n"
   ]
  },
  {
   "cell_type": "code",
   "execution_count": 7,
   "metadata": {},
   "outputs": [],
   "source": [
    "def plot_clusters(data: np.ndarray, clusterLabels: np.array):\n",
    "    fig = plt.figure(figsize=(20,20))\n",
    "    for clusterIdx in range(10):\n",
    "        for c, val in enumerate(data.values[clusterLabels == clusterIdx][0:10]):\n",
    "            fig.add_subplot(10, 10, 10*clusterIdx+c+1)\n",
    "            plt.imshow(val.reshape((28,28)))\n",
    "            plt.gray()\n",
    "            plt.xticks([])\n",
    "            plt.yticks([])\n",
    "            plt.xlabel('?? ?? ??')\n",
    "            plt.ylabel('Cluster: '+str(clusterIdx))\n",
    "            plt.show()\n",
    "\n"
   ]
  },
  {
   "cell_type": "code",
   "execution_count": 8,
   "metadata": {},
   "outputs": [],
   "source": [
    "def reshaper_1d(data: np.ndarray) -> np.ndarray:\n",
    "    rdata = data.copy()\n",
    "    return rdata.reshape(rdata.shape[0], (rdata.shape[1]*rdata.shape[2]))"
   ]
  },
  {
   "cell_type": "markdown",
   "metadata": {},
   "source": [
    "### Dimensionality Reduction Models"
   ]
  },
  {
   "cell_type": "code",
   "execution_count": 9,
   "metadata": {},
   "outputs": [],
   "source": [
    "# (1/3) PCA\n",
    "\n",
    "# Import PCA\n",
    "from sklearn.decomposition import PCA\n",
    "\n",
    "def pca_dm(train: pd.DataFrame, test: pd.DataFrame, display:bool = False) -> np.ndarray:\n",
    "    pca = PCA(0.99, whiten=True)\n",
    "    #remember: PCA takes as input a 2d matrix: n paradigms x m features\n",
    "    pca_created_data = pca.fit_transform(\n",
    "            train.reshape(train.shape[0],\\\n",
    "                          (train.shape[1] * train.shape[2])))\n",
    "    \n",
    "    # Show the transformation if needed\n",
    "    if display: \n",
    "        # Inverse transform to reconstruct train\n",
    "        inversed_pca_data = pca.inverse_transform(pca_created_data)\n",
    "        \n",
    "        # Reshape back to image dimensions\n",
    "        reshaped_data = inversed_pca_data.reshape(train.shape[0], train.shape[1], train.shape[2])\n",
    "        \n",
    "        # Display images\n",
    "        print(\"Reshaped images from PCA transform:\")\n",
    "        plot_random_images_by_cluster(reshaped_data, y_train, title=\"PCA Tranformation\")\n",
    "\n",
    "    ##### Transform the test set only FOR DEMONSTRATION PURPOSES ######\n",
    "    # Apply PCA to test data\n",
    "    flattened_test =  reshaper_1d(test) # test.reshape(test.shape[0], -1)\n",
    "    pca_projected_demo_test_set = pca.transform(flattened_test)\n",
    "\n",
    "    # Inverse transform to reconstruct TEST\n",
    "    inversed_pca_demo_test = pca.inverse_transform(pca_projected_demo_test_set)\n",
    "\n",
    "    # Correct reshaping of inversed PCA data\n",
    "    reshaped_demo_test = inversed_pca_demo_test.reshape(-1, train.shape[1], train.shape[2])\n",
    "    ####################################################################\n",
    "\n",
    "    #apply the existing PCA transform to new train\n",
    "    pca_projected_data_train_set = pca.transform(\\\n",
    "        train.reshape(train.shape[0], (train.shape[1] * train.shape[2])))\n",
    "\n",
    "    print('PCA train projected sucessfully.')\n",
    "    print(pca_projected_data_train_set.shape)\n",
    "\n",
    "    #apply the existing PCA transform to new test\n",
    "    pca_projected_data_test_set = pca.transform(\n",
    "        test.reshape(test.shape[0], (test.shape[1] * test.shape[2]))\n",
    "                            )\n",
    "    print('PCA test projected sucessfully.')\n",
    "    print(pca_projected_data_test_set.shape)\n",
    "\n",
    "    return pca_projected_data_train_set, pca_projected_data_test_set, reshaped_demo_test"
   ]
  },
  {
   "cell_type": "code",
   "execution_count": 10,
   "metadata": {},
   "outputs": [],
   "source": [
    "from tensorflow.keras.callbacks import EarlyStopping\n",
    "\n",
    "import os\n",
    "os.environ['TF_ENABLE_ONEDNN_OPTS'] = '0'\n",
    "os.environ[\"CUDA_VISIBLE_DEVICES\"] = \"-1\"  # Disable GPU\n",
    "\n",
    "import tensorflow as tf\n",
    "\n",
    "\n",
    "gpus = tf.config.experimental.list_physical_devices('GPU')\n",
    "if gpus:\n",
    "    try:\n",
    "        # Restrict TensorFlow to only allocate a fraction of GPU memory\n",
    "        tf.config.experimental.set_memory_growth(gpus[0], True)\n",
    "    except RuntimeError as e:\n",
    "        print(e)\n",
    "\n",
    "# (2/3) Stacked Autoencoder \n",
    "class Autoencoder(Model):\n",
    "  def __init__(self, latent_dim, shape):\n",
    "    super(Autoencoder, self).__init__()\n",
    "    self.latent_dim = latent_dim\n",
    "    self.shape = shape\n",
    "    self.encoder = tf.keras.Sequential([\n",
    "      layers.Flatten(),\n",
    "      # layers.Dense(128, activation='relu'),\n",
    "      layers.Dropout(0.2),  # Add Dropout to avoid Overfitting\n",
    "      layers.Dense(latent_dim, activation='relu'),\n",
    "    ])\n",
    "    self.decoder = tf.keras.Sequential([\n",
    "      layers.Dense(tf.math.reduce_prod(shape).numpy(), activation='sigmoid'),\n",
    "      layers.Reshape(shape)\n",
    "    ])\n",
    "\n",
    "  def call(self, x):\n",
    "    encoded = self.encoder(x)\n",
    "    decoded = self.decoder(encoded)\n",
    "    return decoded\n",
    "\n",
    "# Don't forget to normalize\n",
    "def Stacted_Autoencoder(train: np.ndarray, val: np.ndarray, test: np.ndarray, display:bool = False,\\\n",
    "                        latent_dim: int = 64, epochs_: int =10):\n",
    "\n",
    "  print(\"Starting Autoencoder . . .\")\n",
    "  \n",
    "  shape = val.shape[1:]\n",
    "  autoencoder = Autoencoder(latent_dim, shape)\n",
    "\n",
    "  autoencoder.compile(optimizer='adam', loss=losses.MeanSquaredError())\n",
    "\n",
    "  early_stopping = EarlyStopping(monitor='val_loss', patience=5, restore_best_weights=True)\n",
    "\n",
    "  autoencoder.fit(train, train,\n",
    "                epochs = epochs_,\n",
    "                shuffle = True,\n",
    "                validation_data=(val, val),\n",
    "                callbacks=[early_stopping])\n",
    "  \n",
    "  print(\"Encoding data sets . . .\")\n",
    "\n",
    "  # (Απομόνωση του Encoder)\n",
    "  encoded_train = autoencoder.encoder(train).numpy()\n",
    "\n",
    "  encoded_test = autoencoder.encoder(test).numpy()\n",
    "  ## (decode images for demo)\n",
    "  print(\"Decoding demo img from test set . . .\")\n",
    "  decoded_test_imgs = autoencoder.decoder(encoded_test).numpy()\n",
    "\n",
    "  if display:\n",
    "    plot_random_images_by_cluster(decoded_test_imgs, y_train, title=\"SAE Tranformation\")\n",
    "\n",
    "  print(\"Autoencoder finnished . . .\")\n",
    "\n",
    "  return encoded_train, encoded_test, decoded_test_imgs"
   ]
  },
  {
   "cell_type": "code",
   "execution_count": 11,
   "metadata": {},
   "outputs": [],
   "source": [
    "# !pip install umap-learn\n",
    "\n",
    "# https://pypi.org/project/umap-learn/"
   ]
  },
  {
   "cell_type": "code",
   "execution_count": 12,
   "metadata": {},
   "outputs": [],
   "source": [
    "# (3/3) [Personal Choice]\n",
    "import umap\n",
    "\n",
    "def umap_reducer(train: np.ndarray, test: np.ndarray):\n",
    "    \"\"\"\n",
    "    UMAP function\n",
    "    \"\"\"\n",
    "\n",
    "    reducer = umap.UMAP(random_state=42, n_jobs= -1)\n",
    "    reducer.fit(train.data)\n",
    "    embedding_train = reducer.transform(train.data)\n",
    "\n",
    "    # Verify that the result of calling transform is\n",
    "    # idenitical to accessing the embedding_ attribute\n",
    "    assert(np.all(embedding_train == reducer.embedding_))\n",
    "    embedding_train.shape\n",
    "\n",
    "    embedding_test = reducer.transform(test.data)\n",
    "\n",
    "    ## Project Scatterplot \n",
    "    # Generate distinct colors for each class (up to 10)\n",
    "    color_palette = sns.color_palette(\"tab10\", 10)  # Tab10 gives 10 unique colors\n",
    "    class_to_color = {cls: color_palette[idx] for idx, cls in enumerate(np.unique(y_train))}\n",
    "\n",
    "    # UMAP Projection of the data\n",
    "    plt.figure(figsize=(10, 8))\n",
    "    plt.scatter(\n",
    "        embedding_test[:, 0],\n",
    "        embedding_test[:, 1],\n",
    "        c=[class_to_color[label] for label in y_test],\n",
    "        s=10,  # Marker size\n",
    "        alpha=0.8  # Transparency for better visibility\n",
    "    )\n",
    "    plt.gca().set_aspect('equal', 'datalim')\n",
    "    plt.title('UMAP projection of the Test set', fontsize=16)\n",
    "    plt.xlabel(\"Dim 1\")\n",
    "    plt.ylabel(\"Dim 2\")\n",
    "    plt.show()\n",
    "\n",
    "    # Try to inverse the embedding data for DEMONSTRATION PURPOSES\n",
    "    print(\"Inverting embedding data . . . \")\n",
    "    # inv_demo_test = reducer.inverse_transform(embedding_test)\n",
    "    inv_demo_test = X_test\n",
    "\n",
    "    print(\"UMAP completed . . .\")\n",
    "    return embedding_train, embedding_test, inv_demo_test"
   ]
  },
  {
   "cell_type": "markdown",
   "metadata": {},
   "source": [
    "### Performance Metrics"
   ]
  },
  {
   "cell_type": "code",
   "execution_count": 13,
   "metadata": {},
   "outputs": [],
   "source": [
    "#define a performance evaluation function\n",
    "from sklearn import metrics\n",
    "def performance_score(mdl:str, input_values, cluster_indexes):\n",
    "    print(\"\\n=== === === ===\\nPerformance scores for \", mdl)\n",
    "    try:\n",
    "        # (1/4) Calinski–Harabasz index\n",
    "        ch_score = metrics.calinski_harabasz_score(input_values, cluster_indexes)\n",
    "        print('>Calinski-Harabasz Index score is {:.2f}'.format(ch_score))\n",
    "        #print(' ... Higher the value better the clusters.')\n",
    "    except:\n",
    "        print(' .. Warning: could not calculate Calinski-Harabasz Index score.')\n",
    "        ch_score = -999\n",
    "\n",
    "    try:\n",
    "        # (2/4) Davies–Bouldin index\n",
    "        db_score = metrics.davies_bouldin_score(input_values, cluster_indexes)\n",
    "        print('>Davies-Bouldin Index score is {:.2f}'.format(db_score))\n",
    "        #print(' ... 0: Lowest possible value, good partitioning.')\n",
    "    except:\n",
    "        print(' .. Warning: could not calculate Davies-Bouldin Index score.')\n",
    "        db_score = -999\n",
    "\n",
    "    try:\n",
    "        # (3/4) Silhouette score\n",
    "        silh_score = metrics.silhouette_score(input_values, cluster_indexes)\n",
    "        print('>Silhouette Coefficient score is {:.2f}'.format(silh_score))\n",
    "        #print( ' ... -1: incorrect, 0: overlapping, +1: highly dense clusts.')\n",
    "    except:\n",
    "        print(' .. Warning: could not calculate Silhouette Coefficient score.')\n",
    "        silh_score = -999\n",
    "\n",
    "        # (4/4) [Personal Choice]\n",
    "\n",
    "    return silh_score, ch_score, db_score"
   ]
  },
  {
   "cell_type": "markdown",
   "metadata": {},
   "source": [
    "### Clustering Models"
   ]
  },
  {
   "cell_type": "code",
   "execution_count": 14,
   "metadata": {},
   "outputs": [],
   "source": [
    "# (1/3) Minibatch kmeans\n",
    "\n",
    "def miniBatchKMeans_sim(data: np.ndarray, plot_image: np.ndarray):\n",
    "    mbkm = cluster.MiniBatchKMeans(n_clusters = 10, random_state=64)\n",
    "    mbkm.fit(data)\n",
    "    clusterLabels = mbkm.labels_\n",
    "    \n",
    "    #performance scores & visualizations\n",
    "    performance_score(\"miniBatchKMeans\", y_test.reshape(-1, 1), clusterLabels)\n",
    "    \n",
    "    if plot_image is not None:\n",
    "        plot_random_images_by_cluster(plot_image, cluster_labels=clusterLabels,\\\n",
    "             title=\"miniBatchKMeans Clusters\")\n",
    "    else:\n",
    "        plot_random_images_by_cluster(data, cluster_labels=clusterLabels,\\\n",
    "             title=\"miniBatchKMeans Clusters\")"
   ]
  },
  {
   "cell_type": "code",
   "execution_count": 15,
   "metadata": {},
   "outputs": [],
   "source": [
    "# (2/3) DBSCAN\n",
    "# Cluster the training set\n",
    "\n",
    "# for [4,6] 11 clusters, for [4,4] 13, [4.5, 4] 16, [4.5, 6] 7\n",
    "# [3,6] 20, [3, 4] 48, [4.5, 8] 5, [5, 4] 3, [5, 8] 3, [4,8] 7\n",
    "\n",
    "def dBSCAN_sim(data: np.ndarray, plot_image: np.ndarray, \\\n",
    "    eps_:float= 4.5, min_samples_:int= 4):\n",
    "\n",
    "    dbscan = cluster.DBSCAN(eps= eps_, min_samples= min_samples_)\n",
    "    dbscan.fit(data)\n",
    "    clusterLabels = dbscan.labels_\n",
    "\n",
    "    #performance scores & visualizations\n",
    "    performance_score(\"DBSCAN\", y_test.reshape(-1, 1), clusterLabels)\n",
    "    # in case the data are in ploting condition\n",
    "    if plot_image is not None:\n",
    "        plot_random_images_by_cluster(plot_image, cluster_labels=clusterLabels,\\\n",
    "             title=\"DBSCAN Clusters\")\n",
    "    else:\n",
    "        plot_random_images_by_cluster(data, cluster_labels=clusterLabels,\\\n",
    "             title=\"DBSCAN Clusters\")\n",
    "\n"
   ]
  },
  {
   "cell_type": "code",
   "execution_count": 16,
   "metadata": {},
   "outputs": [
    {
     "data": {
      "image/png": "[encoded data removed]",
      "text/plain": [
       "<Figure size 640x480 with 1 Axes>"
      ]
     },
     "metadata": {},
     "output_type": "display_data"
    }
   ],
   "source": [
    "from sklearn.neighbors import NearestNeighbors\n",
    "from matplotlib import pyplot as plt\n",
    "\n",
    "# Trying finding the optimal <eps> hyparameter \n",
    "# Paper: https://iopscience.iop.org/article/10.1088/1755-1315/31/1/012012/pdf\n",
    "\n",
    "X_test_flatten = reshaper_1d(X_test)\n",
    "X_test_norm = scaler(X_test_flatten)\n",
    "\n",
    "def nn_eps(data:np.ndarray):\n",
    "    neighbors = NearestNeighbors(n_neighbors=10)\n",
    "    neighbors_fit = neighbors.fit(data)\n",
    "    distances, indices = neighbors_fit.kneighbors(data)\n",
    "\n",
    "    distances = np.sort(distances, axis=0)\n",
    "    distances = distances[:,1]\n",
    "    plt.xlabel(\"Object\")\n",
    "    plt.ylabel(\"K Dinstance\")\n",
    "    plt.title(\"k-distance\")\n",
    "    plt.plot(distances)\n",
    "    plt.show()\n",
    "\n",
    "nn_eps(X_test_norm)"
   ]
  },
  {
   "cell_type": "code",
   "execution_count": 17,
   "metadata": {},
   "outputs": [],
   "source": [
    "# (3/3) [Personal choice]"
   ]
  },
  {
   "cell_type": "markdown",
   "metadata": {},
   "source": [
    "# Model Training"
   ]
  },
  {
   "cell_type": "markdown",
   "metadata": {},
   "source": [
    "### Sim function for all models"
   ]
  },
  {
   "cell_type": "code",
   "execution_count": 18,
   "metadata": {},
   "outputs": [],
   "source": [
    "# define cluster function training\n",
    "\n",
    "'''2. Οι τεχνικές clustering θα εφαρμοστούν στο test set. Είναι σημαντικά μικρότερο σε πλήθος\n",
    "παρατηρήσεων, άρα θα τρέξει ποιο γρήγορα'''\n",
    "\n",
    "def cluster_model_sim(test_data: np.ndarray, reshaped_image: np.ndarray= None,\\\n",
    "     eps_dbscan:float= 4.5, min_samples_dbscan:int= 4):\n",
    "    \"\"\"\n",
    "    reshaped_image in case the data are not in ploting shape, if it is leave it intact None\n",
    "    \"\"\"\n",
    "\n",
    "#     miniBatchKMeans_sim(test_data, reshaped_image)\n",
    "\n",
    "    dBSCAN_sim(test_data, reshaped_image, eps_= eps_dbscan, min_samples_= min_samples_dbscan)"
   ]
  },
  {
   "cell_type": "markdown",
   "metadata": {},
   "source": [
    "### Normalized method\n",
    "\n",
    "In this part of code, we use the normalized dataset [0,1]"
   ]
  },
  {
   "cell_type": "code",
   "execution_count": 19,
   "metadata": {},
   "outputs": [],
   "source": [
    "# Normalize the data\n",
    "# scaler expects flatten image\n",
    "X_test_flatten = reshaper_1d(X_test)\n",
    "X_test_norm = scaler(X_test_flatten)\n",
    "\n",
    "X_val_flatten = reshaper_1d(X_validate)\n",
    "X_val_norm = scaler(X_val_flatten)\n",
    "\n",
    "X_train_flatten = reshaper_1d(X_train)\n",
    "X_train_norm = scaler(X_train_flatten)"
   ]
  },
  {
   "cell_type": "code",
   "execution_count": null,
   "metadata": {},
   "outputs": [],
   "source": [
    "\n",
    "print(\"Cluster results for normalized data . . .\")\n",
    "\n",
    "cluster_model_sim(X_test_norm)"
   ]
  },
  {
   "cell_type": "markdown",
   "metadata": {},
   "source": [
    "### PCA"
   ]
  },
  {
   "cell_type": "code",
   "execution_count": null,
   "metadata": {},
   "outputs": [],
   "source": [
    "# Apply PCA tranformation to Train and Test dataset\n",
    "pca_train, pca_test, reshaped_back_test = pca_dm(X_train, X_test, True)"
   ]
  },
  {
   "cell_type": "code",
   "execution_count": null,
   "metadata": {},
   "outputs": [],
   "source": [
    "# Trying finding the optimal <eps> hyparameter for this DM method\n",
    "# Paper: https://iopscience.iop.org/article/10.1088/1755-1315/31/1/012012/pdf\n",
    " \n",
    "nn_eps(pca_train)"
   ]
  },
  {
   "cell_type": "code",
   "execution_count": null,
   "metadata": {},
   "outputs": [],
   "source": [
    "# Simulate the cluster models\n",
    "# for min 2 -> 47 clusters\n",
    "\n",
    "print(\"Cluster results for PCA transformed data . . .\")\n",
    "\n",
    "cluster_model_sim(pca_test, reshaped_back_test, eps_dbscan= 23, min_samples_dbscan= 2)"
   ]
  },
  {
   "cell_type": "markdown",
   "metadata": {},
   "source": [
    "### Stacked Autoencoder"
   ]
  },
  {
   "cell_type": "code",
   "execution_count": 20,
   "metadata": {},
   "outputs": [
    {
     "name": "stdout",
     "output_type": "stream",
     "text": [
      "Starting Autoencoder . . .\n",
      "Epoch 1/10\n"
     ]
    },
    {
     "ename": "",
     "evalue": "",
     "output_type": "error",
     "traceback": [
      "\u001b[1;31mThe Kernel crashed while executing code in the current cell or a previous cell. \n",
      "\u001b[1;31mPlease review the code in the cell(s) to identify a possible cause of the failure. \n",
      "\u001b[1;31mClick <a href='https://aka.ms/vscodeJupyterKernelCrash'>here</a> for more info. \n",
      "\u001b[1;31mView Jupyter <a href='command:jupyter.viewOutput'>log</a> for further details."
     ]
    }
   ],
   "source": [
    "enc_train, enc_test, demo_test_sae_img = Stacted_Autoencoder(X_train_norm, X_val_norm, X_train_norm)\n",
    "\n",
    "nn_eps(enc_train)"
   ]
  },
  {
   "cell_type": "code",
   "execution_count": null,
   "metadata": {},
   "outputs": [],
   "source": [
    "cluster_model_sim(enc_test, reshaped_image= demo_test_sae_img, eps_dbscan= 0.04, min_samples_dbscan= 7)"
   ]
  },
  {
   "cell_type": "markdown",
   "metadata": {},
   "source": [
    "### UMAP"
   ]
  },
  {
   "cell_type": "code",
   "execution_count": null,
   "metadata": {},
   "outputs": [],
   "source": [
    "print(\"Cluster results for UMAP data . . .\")\n",
    "\n",
    "umap_train, umap_test, inv_demo_test = umap_reducer(X_train_norm, X_test_norm)"
   ]
  },
  {
   "cell_type": "code",
   "execution_count": null,
   "metadata": {},
   "outputs": [],
   "source": [
    "nn_eps(umap_train)"
   ]
  },
  {
   "cell_type": "code",
   "execution_count": null,
   "metadata": {},
   "outputs": [],
   "source": [
    "# Run cluster models\n",
    "cluster_model_sim(umap_test, reshaped_image= inv_demo_test, eps_dbscan= 0.04, min_samples_dbscan= 7)"
   ]
  }
 ],
 "metadata": {
  "kernelspec": {
   "display_name": "Python 3",
   "language": "python",
   "name": "python3"
  },
  "language_info": {
   "codemirror_mode": {
    "name": "ipython",
    "version": 3
   },
   "file_extension": ".py",
   "mimetype": "text/x-python",
   "name": "python",
   "nbconvert_exporter": "python",
   "pygments_lexer": "ipython3",
   "version": "3.12.7"
  }
 },
 "nbformat": 4,
 "nbformat_minor": 2
}
